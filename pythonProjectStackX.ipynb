{
  "nbformat": 4,
  "nbformat_minor": 0,
  "metadata": {
    "colab": {
      "provenance": [],
      "toc_visible": true,
      "authorship_tag": "ABX9TyOo6pID2TpXI4R6IgvF2d76",
      "include_colab_link": true
    },
    "kernelspec": {
      "name": "python3",
      "display_name": "Python 3"
    },
    "language_info": {
      "name": "python"
    }
  },
  "cells": [
    {
      "cell_type": "markdown",
      "metadata": {
        "id": "view-in-github",
        "colab_type": "text"
      },
      "source": [
        "<a href=\"https://colab.research.google.com/github/crispimr/crispimr/blob/main/pythonProjectStackX.ipynb\" target=\"_parent\"><img src=\"https://colab.research.google.com/assets/colab-badge.svg\" alt=\"Open In Colab\"/></a>"
      ]
    },
    {
      "cell_type": "code",
      "execution_count": 16,
      "metadata": {
        "colab": {
          "base_uri": "https://localhost:8080/"
        },
        "id": "fc1PeCuA_S6w",
        "outputId": "95c21abd-f945-4079-a460-4c2f87d3330c"
      },
      "outputs": [
        {
          "output_type": "stream",
          "name": "stdout",
          "text": [
            "Digite o número de horas extras: 12\n",
            "Digite o número de horas faltantes: 2\n",
            "Minutos totais:  640.0 com Gratificação de R$200,00\n"
          ]
        }
      ],
      "source": [
        "# ExSt004.py\n",
        "\n",
        "# Algoritmo Tarefa 001: Idade e peso (IF)\n",
        "# Dev: Rafael Crispim\n",
        "# Data: 05.09.2022\n",
        "\n",
        "HorasExtras = float(input(\"Digite o número de horas extras: \"))\n",
        "HorasFaltas = float(input(\"Digite o número de horas faltantes: \"))\n",
        "\n",
        "TotalMinutos = (HorasExtras - (2/3*HorasFaltas)) * 60\n",
        "\n",
        "# print(TotalMinutos)\n",
        "\n",
        "if TotalMinutos >= 2401:\n",
        "  print(\"Minutos totais: \", TotalMinutos, \"com Gratificação de R$500,00\")\n",
        "elif TotalMinutos >= 1801  and TotalMinutos < 2401:\n",
        "  print(\"Minutos totais: \", TotalMinutos, \"com Gratificação de R$400,00\")\n",
        "elif TotalMinutos >= 1201  and TotalMinutos < 1801:\n",
        "  print(\"Minutos totais: \", TotalMinutos, \"com Gratificação de R$300,00\")\n",
        "elif TotalMinutos >= 600  and TotalMinutos < 1201:\n",
        "  print(\"Minutos totais: \", TotalMinutos, \"com Gratificação de R$200,00\")\n",
        "elif TotalMinutos < 600:\n",
        "  print(\"Minutos totais: \", TotalMinutos, \"com Gratificação de R$100,00\")"
      ]
    },
    {
      "cell_type": "code",
      "source": [
        "# ExSt005.py\n",
        "\n",
        "# Algoritmo Tarefa 002: Idade de risco (IF)\n",
        "# Dev: Rafael Crispim\n",
        "# Data: 05.09.2022\n",
        "\n",
        "Idade = int(input(\"Digite a sua idade: \"))\n",
        "Peso = float(input(\"Digite o seu peso: \"))\n",
        "\n",
        "if Idade < 20 and Peso <= 60:\n",
        "  print(\"Com\", Idade, \"anos e o peso de\", Peso, \"Kilos, você está no grau de risco 9\")\n",
        "elif Idade < 20 and Peso > 60 and Peso <= 90:\n",
        "  print(\"Com\", Idade, \"anos e o peso de\", Peso, \"Kilos, você está no grau de risco 8\")\n",
        "elif Idade < 20 and Peso > 90:\n",
        "  print(\"Com\", Idade, \"anos e o peso de\", Peso, \"Kilos, você está no grau de risco 7\")\n",
        "elif Idade >= 20 and Idade <= 50 and Peso <= 60:\n",
        "  print(\"Com\", Idade, \"anos e o peso de\", Peso, \"Kilos, você está no grau de risco 6\")\n",
        "elif Idade >= 20 and Idade <= 50 and Peso > 60 and Peso <= 90:\n",
        "  print(\"Com\", Idade, \"anos e o peso de\", Peso, \"Kilos, você está no grau de risco 5\")\n",
        "elif Idade >= 20 and Idade <= 50 and Peso > 90:\n",
        "  print(\"Com\", Idade, \"anos e o peso de\", Peso, \"Kilos, você está no grau de risco 4\")\n",
        "elif Idade > 50 and Peso <= 60:\n",
        "  print(\"Com\", Idade, \"anos e o peso de\", Peso, \"Kilos, você está no grau de risco 3\")\n",
        "elif Idade > 50 and Peso > 60 and Peso <= 90:\n",
        "  print(\"Com\", Idade, \"anos e o peso de\", Peso, \"Kilos, você está no grau de risco 2\")\n",
        "elif Idade > 50 and Peso > 90:\n",
        "  print(\"Com\", Idade, \"anos e o peso de\", Peso, \"Kilos, você está no grau de risco 1\")"
      ],
      "metadata": {
        "colab": {
          "base_uri": "https://localhost:8080/"
        },
        "id": "OjmmBUrFOglT",
        "outputId": "c9b7eef4-f283-451a-a82f-52e03156d3ed"
      },
      "execution_count": 27,
      "outputs": [
        {
          "output_type": "stream",
          "name": "stdout",
          "text": [
            "Digite a sua idade: 55\n",
            "Digite o seu peso: 99\n",
            "Com 55 anos e o peso de 99.0 Kilos, você está no grau de risco 1\n"
          ]
        }
      ]
    }
  ]
}